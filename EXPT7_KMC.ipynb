{
  "nbformat": 4,
  "nbformat_minor": 0,
  "metadata": {
    "colab": {
      "provenance": [],
      "authorship_tag": "ABX9TyO/onzYFqlyxfSyI5MLkDps",
      "include_colab_link": true
    },
    "kernelspec": {
      "name": "python3",
      "display_name": "Python 3"
    },
    "language_info": {
      "name": "python"
    }
  },
  "cells": [
    {
      "cell_type": "markdown",
      "metadata": {
        "id": "view-in-github",
        "colab_type": "text"
      },
      "source": [
        "<a href=\"https://colab.research.google.com/github/sushantnair/K-Means-Clustering/blob/main/EXPT7_KMC.ipynb\" target=\"_parent\"><img src=\"https://colab.research.google.com/assets/colab-badge.svg\" alt=\"Open In Colab\"/></a>"
      ]
    },
    {
      "cell_type": "code",
      "source": [
        "import random\n",
        "import math"
      ],
      "metadata": {
        "id": "vnnv_6nyFQlm"
      },
      "execution_count": null,
      "outputs": []
    },
    {
      "cell_type": "code",
      "execution_count": null,
      "metadata": {
        "colab": {
          "base_uri": "https://localhost:8080/"
        },
        "id": "-MZsBoKcCvLD",
        "outputId": "c5c87f8c-6e66-4191-ca87-db47888f39b0"
      },
      "outputs": [
        {
          "output_type": "stream",
          "name": "stdout",
          "text": [
            "Enter the value of 'k': 2\n",
            "Centroid with corresponding Height and Weight values: {'C1': (170, 56), 'C2': (182, 72)}\n"
          ]
        }
      ],
      "source": [
        "# Height\n",
        "x = [185, 170, 168, 179, 182, 188, 180, 180, 183, 180, 180, 177]\n",
        "# Weight\n",
        "y = [72, 56, 60, 68, 72, 77, 71, 70, 84, 88, 67, 76]\n",
        "\n",
        "l = len(x)\n",
        "\n",
        "k = int(input('Enter the value of \\'k\\': '))\n",
        "\n",
        "# Generate the indices of Centroid 1, Centroid 2 and Centroid k randomly and get the corresponding values of Weight and Height\n",
        "# Dictionary of indices of Centroids\n",
        "'''dict_vals_c = dict()\n",
        "for i in range(k):\n",
        "    idx_c = random.randint(0, l)\n",
        "    h_c = x[idx_c]\n",
        "    w_c = y[idx_c]\n",
        "    dict_vals_c[f'C{i+1}'] = (h_c, w_c)'''\n",
        "\n",
        "dict_vals_c = {'C1': (170, 56), 'C2': (182, 72)}\n",
        "\n",
        "print(f'Centroid with corresponding Height and Weight values: {dict_vals_c}')"
      ]
    },
    {
      "cell_type": "code",
      "source": [
        "print(dict_vals_c)"
      ],
      "metadata": {
        "colab": {
          "base_uri": "https://localhost:8080/"
        },
        "id": "6gwMgG6Jrwx1",
        "outputId": "5aff9a14-fb87-486e-9e0d-fa22380becc5"
      },
      "execution_count": null,
      "outputs": [
        {
          "output_type": "stream",
          "name": "stdout",
          "text": [
            "{'C1': (170, 56), 'C2': (182, 72)}\n"
          ]
        }
      ]
    },
    {
      "cell_type": "code",
      "source": [
        "for centroid, values in dict_vals_c.items():\n",
        "    print(centroid, values[0], values[1])"
      ],
      "metadata": {
        "colab": {
          "base_uri": "https://localhost:8080/"
        },
        "id": "XFfWAWt0sK3l",
        "outputId": "f6fe567f-2ac5-422d-bf3a-606d10ac9886"
      },
      "execution_count": null,
      "outputs": [
        {
          "output_type": "stream",
          "name": "stdout",
          "text": [
            "C1 170 56\n",
            "C2 182 72\n"
          ]
        }
      ]
    },
    {
      "cell_type": "code",
      "source": [
        "def assign_clusters(dict_vals_c):\n",
        "\n",
        "    # Find distance from Centroid 1, Centroid 2 and Centroid k for each value of Height and Weight and also assign Cluster for each\n",
        "    dict_dst_c = dict()\n",
        "    asgn_c = list()\n",
        "\n",
        "    # Get list of indices for each assigned cluster\n",
        "    dict_idcs_c = dict()\n",
        "\n",
        "    for centroid, values in dict_vals_c.items():\n",
        "        list_dst_c = list()\n",
        "        for i in range(l):\n",
        "            # print(x[i], y[i])\n",
        "            d_c = math.sqrt((values[0] - x[i])**2 + (values[1] - y[i])**2)\n",
        "            list_dst_c.append(round(d_c, 2))\n",
        "        print(list_dst_c)\n",
        "        dict_dst_c[f'{centroid}'] = list_dst_c\n",
        "\n",
        "    print(dict_dst_c)\n",
        "\n",
        "    for i in range(l):\n",
        "        for centroid, distances in dict_dst_c.items():\n",
        "            for other_centroid, other_distances in dict_dst_c.items():\n",
        "                if centroid != other_centroid:\n",
        "                    if distances[i] < other_distances[i]:\n",
        "                        if centroid not in dict_idcs_c:\n",
        "                            dict_idcs_c[centroid] = [i]\n",
        "                            asgn_c.append(centroid)\n",
        "                        else:\n",
        "                            dict_idcs_c[centroid].append(i)\n",
        "                            asgn_c.append(centroid)\n",
        "\n",
        "    print(dict_idcs_c)\n",
        "    print(asgn_c)\n",
        "\n",
        "    return (dict_dst_c, asgn_c, dict_idcs_c)"
      ],
      "metadata": {
        "id": "VjxOcquRIr7H"
      },
      "execution_count": null,
      "outputs": []
    },
    {
      "cell_type": "code",
      "source": [
        "# Get new Centroids\n",
        "# dict_idcs_c = {'C1': [1, 2], 'C2': [0, 3, 4, 5, 6, 7, 8, 9, 10, 11]}\n",
        "def calculate_centroid(dict_idcs_c):\n",
        "    new_c = dict()\n",
        "    for cluster, idcs in dict_idcs_c.items():\n",
        "        new_h = new_w = 0\n",
        "        for idx in idcs:\n",
        "            new_h += x[idx]\n",
        "            new_w += y[idx]\n",
        "        new_h /= len(idcs)\n",
        "        new_w /= len(idcs)\n",
        "        new_c[f'{cluster}'] = (new_h, new_w)\n",
        "\n",
        "    print(new_c)\n",
        "    return new_c"
      ],
      "metadata": {
        "id": "7S0ApNXeQ-jp"
      },
      "execution_count": null,
      "outputs": []
    },
    {
      "cell_type": "code",
      "source": [
        "stop_condition = False\n",
        "iteration = 0\n",
        "while not stop_condition:\n",
        "\n",
        "    iteration += 1\n",
        "    print(f'Iteration: {iteration}')\n",
        "\n",
        "    dict_dst_c, asgn_c, dict_idcs_c = assign_clusters(dict_vals_c)\n",
        "    dict_vals_c_new = calculate_centroid(dict_idcs_c)\n",
        "    print(f'Assigned Cluster: {asgn_c}')\n",
        "\n",
        "    if dict_vals_c == dict_vals_c_new:\n",
        "        stop_condition = True\n",
        "        print('No change in clusters.')\n",
        "    else:\n",
        "        dict_vals_c = dict_vals_c_new\n",
        "        print('Clusters change')\n"
      ],
      "metadata": {
        "colab": {
          "base_uri": "https://localhost:8080/"
        },
        "id": "W1GLYFXDXLGX",
        "outputId": "c6eb04c0-1cd8-4e51-dc04-e035c8b4d6eb"
      },
      "execution_count": null,
      "outputs": [
        {
          "output_type": "stream",
          "name": "stdout",
          "text": [
            "Iteration: 1\n",
            "[21.93, 0.0, 4.47, 15.0, 20.0, 27.66, 18.03, 17.2, 30.87, 33.53, 14.87, 21.19]\n",
            "[3.0, 20.0, 18.44, 5.0, 0.0, 7.81, 2.24, 2.83, 12.04, 16.12, 5.39, 6.4]\n",
            "{'C1': [21.93, 0.0, 4.47, 15.0, 20.0, 27.66, 18.03, 17.2, 30.87, 33.53, 14.87, 21.19], 'C2': [3.0, 20.0, 18.44, 5.0, 0.0, 7.81, 2.24, 2.83, 12.04, 16.12, 5.39, 6.4]}\n",
            "{'C2': [0, 3, 4, 5, 6, 7, 8, 9, 10, 11], 'C1': [1, 2]}\n",
            "['C2', 'C1', 'C1', 'C2', 'C2', 'C2', 'C2', 'C2', 'C2', 'C2', 'C2', 'C2']\n",
            "{'C2': (181.4, 74.5), 'C1': (169.0, 58.0)}\n",
            "Assigned Cluster: ['C2', 'C1', 'C1', 'C2', 'C2', 'C2', 'C2', 'C2', 'C2', 'C2', 'C2', 'C2']\n",
            "Clusters change\n",
            "Iteration: 2\n",
            "[4.38, 21.73, 19.74, 6.93, 2.57, 7.06, 3.77, 4.71, 9.63, 13.57, 7.63, 4.65]\n",
            "[21.26, 2.24, 2.24, 14.14, 19.1, 26.87, 17.03, 16.28, 29.53, 31.95, 14.21, 19.7]\n",
            "{'C2': [4.38, 21.73, 19.74, 6.93, 2.57, 7.06, 3.77, 4.71, 9.63, 13.57, 7.63, 4.65], 'C1': [21.26, 2.24, 2.24, 14.14, 19.1, 26.87, 17.03, 16.28, 29.53, 31.95, 14.21, 19.7]}\n",
            "{'C2': [0, 3, 4, 5, 6, 7, 8, 9, 10, 11], 'C1': [1, 2]}\n",
            "['C2', 'C1', 'C1', 'C2', 'C2', 'C2', 'C2', 'C2', 'C2', 'C2', 'C2', 'C2']\n",
            "{'C2': (181.4, 74.5), 'C1': (169.0, 58.0)}\n",
            "Assigned Cluster: ['C2', 'C1', 'C1', 'C2', 'C2', 'C2', 'C2', 'C2', 'C2', 'C2', 'C2', 'C2']\n",
            "No change in clusters.\n"
          ]
        }
      ]
    },
    {
      "cell_type": "markdown",
      "source": [
        "# References used to help in this code"
      ],
      "metadata": {
        "id": "njj7f34WNlKW"
      }
    },
    {
      "cell_type": "code",
      "source": [
        "# @title Reference 1\n",
        "# Obtained from ChatGPT\n",
        "# https://chat.openai.com/share/4167763c-e0d4-4b87-bf6e-bf024148fd7f\n",
        "data = {\n",
        "    'C1': [21.93, 0.0, 4.47, 15.0, 20.0, 27.66, 18.03, 17.2, 30.87, 33.53, 14.87, 21.19],\n",
        "    'C2': [3.0, 20.0, 18.44, 5.0, 0.0, 7.81, 2.24, 2.83, 12.04, 16.12, 5.39, 6.4],\n",
        "}\n",
        "\n",
        "comparison_results = {}\n",
        "\n",
        "# Get the number of clusters\n",
        "num_clusters = len(data)\n",
        "\n",
        "# Assuming all lists in the dictionary have the same length\n",
        "list_length = len(data['C1'])\n",
        "\n",
        "# Iterate over each index of the lists\n",
        "for i in range(list_length):\n",
        "    for cluster, values in data.items():\n",
        "        for other_cluster, other_values in data.items():\n",
        "            if cluster != other_cluster:  # Compare different clusters\n",
        "                if values[i] < other_values[i]:\n",
        "                    if cluster not in comparison_results:\n",
        "                        comparison_results[cluster] = [i]\n",
        "                    else:\n",
        "                        comparison_results[cluster].append(i)\n",
        "\n",
        "print(\"Comparison Results:\")\n",
        "print(comparison_results)\n"
      ],
      "metadata": {
        "cellView": "form",
        "id": "VEt2fxbeNdqd"
      },
      "execution_count": null,
      "outputs": []
    },
    {
      "cell_type": "code",
      "source": [
        "# @title Reference 2\n",
        "# Obtained from ChatGPT\n",
        "# https://chat.openai.com/share/ccd8ee8b-d33b-4249-8df5-84c69c11983e\n",
        "# BEFORE - Limited to two iterations\n",
        "\n",
        "# For first iteration\n",
        "dict1_dst_c, asgn1_c, dict1_idcs_c = assign_clusters(dict_vals_c)\n",
        "dict1_vals_c = calculate_centroid(dict1_idcs_c)\n",
        "\n",
        "# For 2nd Iteration\n",
        "dict2_dst_c, asgn2_c, dict2_idcs_c = assign_clusters(dict1_vals_c)\n",
        "dict2_vals_c = calculate_centroid(dict2_idcs_c)\n",
        "\n",
        "print(f'Assigned Cluster from 1st Iteration: {asgn1_c}\\nAssigned Cluster from 2nd Iteration: {asgn2_c}')\n",
        "if asgn1_c == asgn2_c:\n",
        "    print(f'Cluster remains same. Stop iteration.')\n",
        "\n",
        "# AFTER - Unlimited iterations as much as is required\n",
        "# as used in code above"
      ],
      "metadata": {
        "id": "O_qgtvFpcExX",
        "cellView": "form"
      },
      "execution_count": null,
      "outputs": []
    }
  ]
}